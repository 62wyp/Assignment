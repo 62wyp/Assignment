{
  "cells": [
    {
      "cell_type": "markdown",
      "metadata": {
        "id": "view-in-github",
        "colab_type": "text"
      },
      "source": [
        "<a href=\"https://colab.research.google.com/github/62wyp/Assignment/blob/main/Assignment_1.ipynb\" target=\"_parent\"><img src=\"https://colab.research.google.com/assets/colab-badge.svg\" alt=\"Open In Colab\"/></a>"
      ]
    },
    {
      "cell_type": "markdown",
      "source": [
        "# Energy Consumption Analysis Tool\n",
        "\n",
        "## Background\n",
        "\n",
        "As Junior Data Analysts at EcoSolutions, we are challenged to improve the energy efficiency of our homes and businesses. Our goal was to develop a Python application that could help users track and analyze their energy consumption data. With this tool, users can better understand their energy usage patterns and find ways to conserve energy and lower their utility bills.\n",
        "\n",
        "## Functionality Overview\n",
        "\n",
        "Our application will have the following features:\n",
        "\n",
        "1. data entry and storage: users can enter energy consumption data for each month of the year, including electricity, gas and water usage, and store the data in a CSV file.\n",
        "2. Data analysis and visualization: the user can choose from at least three analysis options to visualize the data using graphs. The analysis options include monthly consumption trends, comparison of energy types by consumption and breakdown of total annual consumption by energy type."
      ],
      "metadata": {
        "id": "sVhX5dW_2TxJ"
      }
    },
    {
      "cell_type": "markdown",
      "source": [
        "# Data entry and storage\n",
        "\n",
        "Our application firstly provides a user-friendly interactive interface to assist users to enter monthly energy consumption information, including electricity (in kWh), gas consumption (measured in cubic decimeters) and water consumption (measured in liters). Once the data is collected, it is saved in CSV format for later analysis and presentation."
      ],
      "metadata": {
        "id": "K5NuDMse4woD"
      }
    },
    {
      "cell_type": "code",
      "execution_count": 2,
      "metadata": {
        "colab": {
          "base_uri": "https://localhost:8080/"
        },
        "id": "5V1V3AKzt_dw",
        "outputId": "c4c332ca-f4b5-472c-b793-f3c0ab622103"
      },
      "outputs": [
        {
          "output_type": "stream",
          "name": "stdout",
          "text": [
            "Please enter monthly energy consumption data\n",
            "\n",
            "Jan:\n",
            "Electricity usage(kWh):537\n",
            "Gas usage(cubic meters):263\n",
            "Water usage(liters):826\n",
            "\n",
            "Feb:\n",
            "Electricity usage(kWh):521\n",
            "Gas usage(cubic meters):293\n",
            "Water usage(liters):893\n",
            "\n",
            "Mar:\n",
            "Electricity usage(kWh):593\n",
            "Gas usage(cubic meters):297\n",
            "Water usage(liters):852\n",
            "\n",
            "Apr:\n",
            "Electricity usage(kWh):529\n",
            "Gas usage(cubic meters):264\n",
            "Water usage(liters):845\n",
            "\n",
            "May:\n",
            "Electricity usage(kWh):519\n",
            "Gas usage(cubic meters):260\n",
            "Water usage(liters):840\n",
            "\n",
            "Jun:\n",
            "Electricity usage(kWh):592\n",
            "Gas usage(cubic meters):240\n",
            "Water usage(liters):814\n",
            "\n",
            "Jul:\n",
            "Electricity usage(kWh):510\n",
            "Gas usage(cubic meters):293\n",
            "Water usage(liters):816\n",
            "\n",
            "Aug:\n",
            "Electricity usage(kWh):502\n",
            "Gas usage(cubic meters):277\n",
            "Water usage(liters):892\n",
            "\n",
            "Sept:\n",
            "Electricity usage(kWh):581\n",
            "Gas usage(cubic meters):263\n",
            "Water usage(liters):875\n",
            "\n",
            "Oct:\n",
            "Electricity usage(kWh):520\n",
            "Gas usage(cubic meters):293\n",
            "Water usage(liters):892\n",
            "\n",
            "Nov:\n",
            "Electricity usage(kWh):510\n",
            "Gas usage(cubic meters):243\n",
            "Water usage(liters):826\n",
            "\n",
            "Dec:\n",
            "Electricity usage(kWh):593\n",
            "Gas usage(cubic meters):263\n",
            "Water usage(liters):848\n",
            "\n",
            "Data entryis complete and has been saved to CSV.\n"
          ]
        }
      ],
      "source": [
        "\n",
        "import matplotlib.pyplot as plt\n",
        "import csv # import csv library\n",
        "# data entered and saved to CSV\n",
        "def input_and_save_data_to_csv():\n",
        "  with open('consume_energy.csv', mode='w', newline='')as file:\n",
        "      writer = csv.writer(file)\n",
        "\n",
        "      writer.writerow(['Month','Electricity', 'Gas', 'Water'])\n",
        "      #prompts the user to enter monthly energy consumption data\n",
        "      print(\"Please enter monthly energy consumption data\")\n",
        "      for month in [\"Jan\", \"Feb\", \"Mar\", \"Apr\", \"May\", \"Jun\", \"Jul\", \"Aug\", \"Sept\", \"Oct\", \"Nov\", \"Dec\"]:\n",
        "          print(f\"\\n{month}:\")\n",
        "          electricity = input(\"Electricity usage(kWh):\")\n",
        "          gas = input(\"Gas usage(cubic meters):\")\n",
        "          water = input(\"Water usage(liters):\")\n",
        "          #write user input data to csv file\n",
        "          writer.writerow([month,electricity,gas,water])\n",
        "      #prompts that data entry is complete and has been saved to csv\n",
        "      print(\"\\nData entryis complete and has been saved to CSV.\")\n",
        "\n",
        "input_and_save_data_to_csv()\n",
        "\n"
      ]
    },
    {
      "cell_type": "markdown",
      "source": [
        "### Data analysis and visualization services\n",
        "We provide three main analysis options for users to choose:\n",
        "1. Monthly Energy Consumption Tracking: Visualize the monthly consumption trend of each energy species, making it easy to observe the dynamic change of energy consumption and grasp the change pattern of peaks and valleys and seasons.\n",
        "2. Comparative analysis of energy consumption: Through comparative analysis of the consumption of various energy sources (electricity, gas, water, etc.), it reveals the difference in the ratio between energy types and finds the best way to save energy.\n",
        "3. Energy classification statistics: Accurately record the proportion of total consumption of each energy species, so as to accurately assess the role of various energy sources in the overall energy consumption and focus on the most influential energy sources."
      ],
      "metadata": {
        "id": "KdHXB0Sf5Uqj"
      }
    },
    {
      "cell_type": "code",
      "execution_count": 21,
      "metadata": {
        "id": "L4ea19WTYVhL",
        "colab": {
          "base_uri": "https://localhost:8080/",
          "height": 536
        },
        "outputId": "8407f347-41d0-4330-dfbd-16de8e2f8dff"
      },
      "outputs": [
        {
          "name": "stdout",
          "output_type": "stream",
          "text": [
            "\n",
            "Select an option:\n",
            "1. Monthly Trends\n",
            "2. Comparison of Energy Consumption by Type\n",
            "3. Total Consumption Breakdown by Energy Type\n",
            "Enter your choice (1/2/3): 3\n"
          ]
        },
        {
          "output_type": "display_data",
          "data": {
            "text/plain": [
              "<Figure size 640x480 with 1 Axes>"
            ],
            "image/png": "[encoded data removed]"
          },
          "metadata": {}
        }
      ],
      "source": [
        "# reading data from a CSV file\n",
        "def read_data_from_csv():\n",
        "  energy_data = {} #creating empty dictionary to store energy data\n",
        "  #open csv file in read mode\n",
        "  with open('consume_energy.csv', mode='r') as file:\n",
        "    reader = csv.DictReader(file) #creat csv dictionary reading objects\n",
        "    #literate over each line of the csv file\n",
        "    for row in reader:\n",
        "      month = row['Month'] #get month information\n",
        "      #monthly energy data saved to dictionary\n",
        "      energy_data[month] = {\n",
        "                'Electricity': float(row['Electricity']),\n",
        "                'Gas': float(row['Gas']),\n",
        "                'Water': float(row['Water'])\n",
        "            }\n",
        "  return energy_data\n",
        "\n",
        "#mapping of monthly consumption trends\n",
        "def plot_monthly_consumption_trends(data):\n",
        "    months = list(data.keys()) # extract month list\n",
        "    #extract data on each energy consumption\n",
        "    electricity = [data[month]['Electricity'] for month in months]\n",
        "    gas = [data[month]['Gas'] for month in months]\n",
        "    water = [data[month]['Water'] for month in months]\n",
        "\n",
        "    #plot line graphs to show monthly consumption trends\n",
        "    plt.plot(months, electricity, label='Electricity')\n",
        "    plt.plot(months, gas, label='Gas')\n",
        "    plt.plot(months, water, label='Water')\n",
        "    plt.title('Monthly Trends') #set the chart title\n",
        "    plt.xlabel('Month')\n",
        "    plt.ylabel('Usage')\n",
        "    plt.show()\n",
        "\n",
        "#comparing consumption of different energy types\n",
        "def compare_energy_types(data):\n",
        "    energy_types = ['Electricity', 'Gas', 'Water'] #define a list of energy types\n",
        "    #calculate total annual consumption of each energy source\n",
        "    total_usage = {energy: sum(data[month][energy]for month in data)for energy in energy_types}\n",
        "\n",
        "    #bar graphs to compare consumption of different energy types\n",
        "    plt.bar(total_usage.keys(), total_usage.values(), color=['blue', 'red', 'yellow'])\n",
        "    plt.title('Comparison of Energy Consumption by Type')\n",
        "    plt.xlabel('Energy Type')\n",
        "    plt.ylabel('Total Usage')\n",
        "    plt.show()\n",
        "\n",
        "#mapping the decomposition of total consumption\n",
        "def plot_consumption_breakdown(data):\n",
        "    energy_types = ['Electricity', 'Gas', 'Water']\n",
        "    total_usage = [sum(data[month][energy] for month in data) for energy in energy_types]\n",
        "\n",
        "    #pie charts to show the breakdown of total consumption\n",
        "    plt.pie(total_usage, labels=energy_types, autopct='%1.1f%%',startangle=140)\n",
        "    plt.title('Total Consumption Breakdown by Energy Type')\n",
        "    plt.show()\n",
        "\n",
        "#interface for user-selected options\n",
        "def main_menu():\n",
        "    energy_data = read_data_from_csv()\n",
        "\n",
        "    #provide options for users to choose\n",
        "    print(\"\\nSelect an option:\")\n",
        "    print(\"1. Monthly Trends\")\n",
        "    print(\"2. Comparison of Energy Consumption by Type\")\n",
        "    print(\"3. Total Consumption Breakdown by Energy Type\")\n",
        "    choice = input(\"Enter your choice (1/2/3): \")\n",
        "\n",
        "    #call the appropriate function for data analysis and visualization according to the user's choice\n",
        "    if choice == '1':\n",
        "        plot_monthly_consumption_trends(energy_data)\n",
        "    elif choice == '2':\n",
        "        compare_energy_types(energy_data)\n",
        "    elif choice == '3':\n",
        "        plot_consumption_breakdown(energy_data)\n",
        "    else:\n",
        "        print(\"Invalid choice. Please enter 1, 2, or 3.\")\n",
        "\n",
        "main_menu()"
      ]
    },
    {
      "cell_type": "markdown",
      "source": [
        "# Conclusion\n",
        "\n",
        "The energy consumption analysis tool we have developed gives users insight into their energy usage, allowing them to make science-based decisions about saving energy and reducing utility costs. The tool is easy to use and provides intuitive data visualization to help users make informed energy management decisions."
      ],
      "metadata": {
        "id": "vilsqu0s5yd5"
      }
    },
    {
      "cell_type": "markdown",
      "source": [
        "##Reflection and Learning\n",
        "\n",
        "\n",
        "For my code assignment, I attempted to use what I learned to create a program that would automatically collect, store, and analyze energy consumption data. Although I still have a lot to learn in this area, through this project I learned how to use the Python programming language to work with file manipulation and CSV data. I also attempted to create a simple user interface that allowed the user to select different options for analysis. Although this interface was very basic, I realized that user-friendly interface design is crucial to improve the ease of use of the program. Finally, I attempted some basic analysis and visualization of the collected energy consumption data using the matplotlib library. Although my data analysis and visualization skills still need to be improved, this project has provided me with a good learning opportunity to apply my theoretical knowledge to real projects. I will continue to study hard to improve my skills and apply what I have learned to future projects."
      ],
      "metadata": {
        "id": "fPbrdQ24waHn"
      }
    }
  ],
  "metadata": {
    "colab": {
      "provenance": [],
      "authorship_tag": "ABX9TyNzTziAu2Kt4fOGQkY6Sov2",
      "include_colab_link": true
    },
    "kernelspec": {
      "display_name": "Python 3",
      "name": "python3"
    },
    "language_info": {
      "name": "python"
    }
  },
  "nbformat": 4,
  "nbformat_minor": 0
}