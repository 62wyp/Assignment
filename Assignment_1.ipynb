{
  "nbformat": 4,
  "nbformat_minor": 0,
  "metadata": {
    "colab": {
      "provenance": [],
      "authorship_tag": "ABX9TyNVXolvjxZfEGYaDIezFC81",
      "include_colab_link": true
    },
    "kernelspec": {
      "name": "python3",
      "display_name": "Python 3"
    },
    "language_info": {
      "name": "python"
    }
  },
  "cells": [
    {
      "cell_type": "markdown",
      "metadata": {
        "id": "view-in-github",
        "colab_type": "text"
      },
      "source": [
        "<a href=\"https://colab.research.google.com/github/62wyp/Assignment/blob/main/Assignment_1.ipynb\" target=\"_parent\"><img src=\"https://colab.research.google.com/assets/colab-badge.svg\" alt=\"Open In Colab\"/></a>"
      ]
    },
    {
      "cell_type": "code",
      "execution_count": null,
      "metadata": {
        "colab": {
          "base_uri": "https://localhost:8080/"
        },
        "id": "5V1V3AKzt_dw",
        "outputId": "eaf9d4b3-0f55-4100-ddd7-10858eeeec8f"
      },
      "outputs": [
        {
          "output_type": "stream",
          "name": "stdout",
          "text": [
            "Please enter monthly energy consumption data\n",
            "\n",
            "Jan:\n"
          ]
        }
      ],
      "source": [
        "\n",
        "import matplotlib.pyplot as plt\n",
        "import csv\n",
        "def input_and_save_data_to_csv():\n",
        "  with open('consume_energy.csv', mode='w', newline='')as file:\n",
        "      writer = csv.writer(file)\n",
        "      writer.writerow(['Month','Electricity', 'Gas', 'Water'])\n",
        "\n",
        "      print(\"Please enter monthly energy consumption data\")\n",
        "      for month in [\"Jan\", \"Feb\", \"Mar\", \"Apr\", \"May\", \"Jun\", \"Jul\", \"Aug\", \"Sept\", \"Oct\", \"Nov\", \"Dec\"]:\n",
        "          print(f\"\\n{month}:\")\n",
        "          electricity = input(\"Electricity usage(kWh):\")\n",
        "          gas = input(\"Gas usage(cubic meters):\")\n",
        "          water = input(\"Water usage(liters):\")\n",
        "\n",
        "          writer.writerow([month,electricity,gas,water])\n",
        "      print(\"\\nData entryis complete and has been saved to CSV.\")\n",
        "\n",
        "input_and_save_data_to_csv()\n",
        "\n"
      ]
    },
    {
      "cell_type": "code",
      "source": [],
      "metadata": {
        "id": "L4ea19WTYVhL"
      },
      "execution_count": null,
      "outputs": []
    }
  ]
}