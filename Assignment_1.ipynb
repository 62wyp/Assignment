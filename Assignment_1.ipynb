{
  "nbformat": 4,
  "nbformat_minor": 0,
  "metadata": {
    "colab": {
      "provenance": [],
      "authorship_tag": "ABX9TyONVI7zkqBLrB19KoJ3PON5",
      "include_colab_link": true
    },
    "kernelspec": {
      "name": "python3",
      "display_name": "Python 3"
    },
    "language_info": {
      "name": "python"
    }
  },
  "cells": [
    {
      "cell_type": "markdown",
      "metadata": {
        "id": "view-in-github",
        "colab_type": "text"
      },
      "source": [
        "<a href=\"https://colab.research.google.com/github/62wyp/Assignment/blob/main/Assignment_1.ipynb\" target=\"_parent\"><img src=\"https://colab.research.google.com/assets/colab-badge.svg\" alt=\"Open In Colab\"/></a>"
      ]
    },
    {
      "cell_type": "code",
      "execution_count": null,
      "metadata": {
        "colab": {
          "base_uri": "https://localhost:8080/"
        },
        "id": "5V1V3AKzt_dw",
        "outputId": "eaf9d4b3-0f55-4100-ddd7-10858eeeec8f"
      },
      "outputs": [
        {
          "output_type": "stream",
          "name": "stdout",
          "text": [
            "Please enter monthly energy consumption data\n",
            "\n",
            "Jan:\n"
          ]
        }
      ],
      "source": [
        "\n",
        "import matplotlib.pyplot as plt\n",
        "import csv\n",
        "def input_and_save_data_to_csv():\n",
        "  with open('consume_energy.csv', mode='w', newline='')as file:\n",
        "      writer = csv.writer(file)\n",
        "      writer.writerow(['Month','Electricity', 'Gas', 'Water'])\n",
        "\n",
        "      print(\"Please enter monthly energy consumption data\")\n",
        "      for month in [\"Jan\", \"Feb\", \"Mar\", \"Apr\", \"May\", \"Jun\", \"Jul\", \"Aug\", \"Sept\", \"Oct\", \"Nov\", \"Dec\"]:\n",
        "          print(f\"\\n{month}:\")\n",
        "          electricity = input(\"Electricity usage(kWh):\")\n",
        "          gas = input(\"Gas usage(cubic meters):\")\n",
        "          water = input(\"Water usage(liters):\")\n",
        "\n",
        "          writer.writerow([month,electricity,gas,water])\n",
        "      print(\"\\nData entryis complete and has been saved to CSV.\")\n",
        "\n",
        "input_and_save_data_to_csv()\n",
        "\n"
      ]
    },
    {
      "cell_type": "code",
      "source": [
        "\n",
        "def read_data_from_csv():\n",
        "    energy_data = {}\n",
        "    with open('consume_energy.csv', mode='r') as file:\n",
        "        reader = csv.DictReader(file)\n",
        "        for row in reader:\n",
        "            month = row['Month']\n",
        "            energy_data[month] = {\n",
        "                'Electricity': float(row['Electricity']),\n",
        "                'Gas': float(row['Gas']),\n",
        "                'Water': float(row['Water'])\n",
        "            }\n",
        "    return energy_data\n",
        "\n",
        "\n",
        "def plot_monthly_consumption_trends(data):\n",
        "    months = list(data.keys())\n",
        "    electricity = [data[month]['Electricity'] for month in months]\n",
        "    gas = [data[month]['Gas'] for month in months]\n",
        "    water = [data[month]['Water'] for month in months]\n",
        "\n",
        "\n",
        "    plt.plot(months, electricity, label='Electricity')\n",
        "    plt.plot(months, gas, label='Gas')\n",
        "    plt.plot(months, water, label='Water')\n",
        "    plt.title('Monthly Trends')\n",
        "    plt.xlabel('Month')\n",
        "    plt.ylabel('Usage')\n",
        "    plt.show()\n",
        "\n",
        "\n",
        "def compare_energy_types(data):\n",
        "    energy_types = ['Electricity', 'Gas', 'Water']\n",
        "    total_usage = {energy: sum(data[month][energy]for month in data)for energy in energy_types}\n",
        "\n",
        "\n",
        "    plt.bar(total_usage.keys(), total_usage.values(), color=['blue', 'red', 'yellow'])\n",
        "    plt.title('Comparison of Energy Consumption by Type')\n",
        "    plt.xlabel('Energy Type')\n",
        "    plt.ylabel('Total Usage')\n",
        "    plt.show()\n",
        "\n",
        "\n",
        "def plot_consumption_breakdown(data):\n",
        "    energy_types = ['Electricity', 'Gas', 'Water']\n",
        "    total_usage = [sum(data[month][energy] for month in data) for energy in energy_types]\n",
        "\n",
        "\n",
        "    plt.pie(total_usage, labels=energy_types, autopct='%1.1f%%',startangle=140)\n",
        "    plt.title('Total Consumption Breakdown by Energy Type')\n",
        "    plt.show()\n",
        "\n",
        "\n",
        "def main_menu():\n",
        "    energy_data = read_data_from_csv()\n",
        "\n",
        "\n",
        "    print(\"\\nSelect an option:\")\n",
        "    print(\"1. Monthly Trends\")\n",
        "    print(\"2. Comparison of Energy Consumption by Type\")\n",
        "    print(\"3. Total Consumption Breakdown by Energy Type\")\n",
        "    choice = input(\"Enter your choice (1/2/3): \")\n",
        "\n",
        "\n",
        "    if choice == '1':\n",
        "        plot_monthly_consumption_trends(energy_data)\n",
        "    elif choice == '2':\n",
        "        compare_energy_types(energy_data)\n",
        "    elif choice == '3':\n",
        "        plot_annual_consumption_breakdown(energy_data)\n",
        "    else:\n",
        "        print(\"Invalid choice. Please enter 1, 2, or 3.\")\n",
        "\n",
        "main_menu()\n"
      ],
      "metadata": {
        "id": "k1gDyiGgI3BP",
        "colab": {
          "base_uri": "https://localhost:8080/",
          "height": 580
        },
        "outputId": "f4732c9e-36cd-4c9c-9b3a-6dba84e3cbb2"
      },
      "execution_count": null,
      "outputs": [
        {
          "name": "stdout",
          "output_type": "stream",
          "text": [
            "\n",
            "Select an option:\n",
            "1. Monthly Trends\n",
            "2. Comparison of Energy Consumption by Type\n",
            "3. Total Consumption Breakdown by Energy Type\n",
            "Enter your choice (1/2/3): 2\n"
          ]
        },
        {
          "output_type": "display_data",
          "data": {
            "text/plain": [
              "<Figure size 640x480 with 1 Axes>"
            ],
            "image/png": "[encoded data removed]"
          },
          "metadata": {}
        }
      ]
    },
    {
      "cell_type": "code",
      "source": [],
      "metadata": {
        "id": "L4ea19WTYVhL"
      },
      "execution_count": null,
      "outputs": []
    }
  ]
}