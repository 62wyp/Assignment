{
  "cells": [
    {
      "cell_type": "markdown",
      "metadata": {
        "id": "view-in-github",
        "colab_type": "text"
      },
      "source": [
        "<a href=\"https://colab.research.google.com/github/62wyp/Assignment/blob/main/Assignment_1.ipynb\" target=\"_parent\"><img src=\"https://colab.research.google.com/assets/colab-badge.svg\" alt=\"Open In Colab\"/></a>"
      ]
    },
    {
      "cell_type": "code",
      "execution_count": null,
      "metadata": {
        "colab": {
          "base_uri": "https://localhost:8080/"
        },
        "id": "5V1V3AKzt_dw",
        "outputId": "95d2af50-b82b-4dd0-9a6e-8cfae8c5fff6"
      },
      "outputs": [
        {
          "output_type": "stream",
          "name": "stdout",
          "text": [
            "Please enter monthly energy consumption data\n",
            "\n",
            "Jan:\n"
          ]
        }
      ],
      "source": [
        "\n",
        "import matplotlib.pyplot as plt\n",
        "import csv # import csv library\n",
        "# data entered and saved to CSV\n",
        "def input_and_save_data_to_csv():\n",
        "  with open('consume_energy.csv', mode='w', newline='')as file:\n",
        "      writer = csv.writer(file)\n",
        "\n",
        "      writer.writerow(['Month','Electricity', 'Gas', 'Water'])\n",
        "      #prompts the user to enter monthly energy consumption data\n",
        "      print(\"Please enter monthly energy consumption data\")\n",
        "      for month in [\"Jan\", \"Feb\", \"Mar\", \"Apr\", \"May\", \"Jun\", \"Jul\", \"Aug\", \"Sept\", \"Oct\", \"Nov\", \"Dec\"]:\n",
        "          print(f\"\\n{month}:\")\n",
        "          electricity = input(\"Electricity usage(kWh):\")\n",
        "          gas = input(\"Gas usage(cubic meters):\")\n",
        "          water = input(\"Water usage(liters):\")\n",
        "          #write user input data to csv file\n",
        "          writer.writerow([month,electricity,gas,water])\n",
        "      #prompts that data entry is complete and has been saved to csv\n",
        "      print(\"\\nData entryis complete and has been saved to CSV.\")\n",
        "\n",
        "input_and_save_data_to_csv()\n",
        "\n"
      ]
    },
    {
      "cell_type": "code",
      "execution_count": null,
      "metadata": {
        "id": "L4ea19WTYVhL"
      },
      "outputs": [],
      "source": [
        "# reading data from a CSV file\n",
        "def read_data_from_csv():\n",
        "  energy_data = {} #creating empty dictionary to store energy data\n",
        "  #open csv file in read mode\n",
        "  with open('consume_energy.csv', mode='r') as file:\n",
        "    reader = csv.DictReader(file) #creat csv dictionary reading objects\n",
        "    #literate over each line of the csv file\n",
        "    for row in reader:\n",
        "      month = row['Month'] #get month information\n",
        "      #monthly energy data saved to dictionary\n",
        "      energy_data[month] = {\n",
        "                'Electricity': float(row['Electricity']),\n",
        "                'Gas': float(row['Gas']),\n",
        "                'Water': float(row['Water'])\n",
        "            }\n",
        "  return energy_data\n",
        "\n",
        "#mapping of monthly consumption trends\n",
        "def plot_monthly_consumption_trends(data):\n",
        "    months = list(data.keys()) # extract month list\n",
        "    #extract data on each energy consumption\n",
        "    electricity = [data[month]['Electricity'] for month in months]\n",
        "    gas = [data[month]['Gas'] for month in months]\n",
        "    water = [data[month]['Water'] for month in months]\n",
        "\n",
        "    #plot line graphs to show monthly consumption trends\n",
        "    plt.plot(months, electricity, label='Electricity')\n",
        "    plt.plot(months, gas, label='Gas')\n",
        "    plt.plot(months, water, label='Water')\n",
        "    plt.title('Monthly Trends') #set the chart title\n",
        "    plt.xlabel('Month')\n",
        "    plt.ylabel('Usage')\n",
        "    plt.show()\n",
        "\n",
        "#comparing consumption of different energy types\n",
        "def compare_energy_types(data):\n",
        "    energy_types = ['Electricity', 'Gas', 'Water'] #define a list of energy types\n",
        "    #calculate total annual consumption of each energy source\n",
        "    total_usage = {energy: sum(data[month][energy]for month in data)for energy in energy_types}\n",
        "\n",
        "    #bar graphs to compare consumption of different energy types\n",
        "    plt.bar(total_usage.keys(), total_usage.values(), color=['blue', 'red', 'yellow'])\n",
        "    plt.title('Comparison of Energy Consumption by Type')\n",
        "    plt.xlabel('Energy Type')\n",
        "    plt.ylabel('Total Usage')\n",
        "    plt.show()\n",
        "\n",
        "#mapping the decomposition of total consumption\n",
        "def plot_consumption_breakdown(data):\n",
        "    energy_types = ['Electricity', 'Gas', 'Water']\n",
        "    total_usage = [sum(data[month][energy] for month in data) for energy in energy_types]\n",
        "\n",
        "    #pie charts to show the breakdown of total consumption\n",
        "    plt.pie(total_usage, labels=energy_types, autopct='%1.1f%%',startangle=140)\n",
        "    plt.title('Total Consumption Breakdown by Energy Type')\n",
        "    plt.show()\n",
        "\n",
        "#interface for user-selected options\n",
        "def main_menu():\n",
        "    energy_data = read_data_from_csv()\n",
        "\n",
        "    #provide options for users to choose\n",
        "    print(\"\\nSelect an option:\")\n",
        "    print(\"1. Monthly Trends\")\n",
        "    print(\"2. Comparison of Energy Consumption by Type\")\n",
        "    print(\"3. Total Consumption Breakdown by Energy Type\")\n",
        "    choice = input(\"Enter your choice (1/2/3): \")\n",
        "\n",
        "    #call the appropriate function for data analysis and visualization according to the user's choice\n",
        "    if choice == '1':\n",
        "        plot_monthly_consumption_trends(energy_data)\n",
        "    elif choice == '2':\n",
        "        compare_energy_types(energy_data)\n",
        "    elif choice == '3':\n",
        "        plot_annual_consumption_breakdown(energy_data)\n",
        "    else:\n",
        "        print(\"Invalid choice. Please enter 1, 2, or 3.\")\n",
        "\n",
        "main_menu()"
      ]
    }
  ],
  "metadata": {
    "colab": {
      "provenance": [],
      "authorship_tag": "ABX9TyMV07GRQ2/X8M2px36lWgKV",
      "include_colab_link": true
    },
    "kernelspec": {
      "display_name": "Python 3",
      "name": "python3"
    },
    "language_info": {
      "name": "python"
    }
  },
  "nbformat": 4,
  "nbformat_minor": 0
}