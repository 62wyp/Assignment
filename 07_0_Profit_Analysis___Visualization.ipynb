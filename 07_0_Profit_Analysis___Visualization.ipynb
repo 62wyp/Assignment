{
  "nbformat": 4,
  "nbformat_minor": 0,
  "metadata": {
    "colab": {
      "provenance": [],
      "include_colab_link": true
    },
    "kernelspec": {
      "name": "python3",
      "display_name": "Python 3"
    },
    "language_info": {
      "name": "python"
    }
  },
  "cells": [
    {
      "cell_type": "markdown",
      "metadata": {
        "id": "view-in-github",
        "colab_type": "text"
      },
      "source": [
        "<a href=\"https://colab.research.google.com/github/62wyp/Assignment/blob/main/07_0_Profit_Analysis___Visualization.ipynb\" target=\"_parent\"><img src=\"https://colab.research.google.com/assets/colab-badge.svg\" alt=\"Open In Colab\"/></a>"
      ]
    },
    {
      "cell_type": "markdown",
      "source": [
        "# Instructions:\n",
        "\n",
        "Working in pair, follow the **six-steps problem solving methodology** to design and develop a program for the following task.\n",
        "\n",
        "Create two notebooks:<br>\n",
        "1. an **analysis and design notebook/report** (which includes analysis and design  discussion)<br>\n",
        "2. a **development notebook** which includes pseudocode, step-by-step code developement process, testing, and any other industry best practice\n",
        "\n",
        "\n",
        "\n",
        "\n"
      ],
      "metadata": {
        "id": "9mAf65K4_5Jv"
      }
    },
    {
      "cell_type": "markdown",
      "source": [
        "# Problem Statement:\n",
        "\n",
        "You work for a global retail company that operates in various regions around the world, including the Australia and Oceania region. The company stores sales data in a CSV file named \"sales.csv,\" which contains information about sales and profits in different countries. You are tasked with developing a program to analyze sales data stored in a CSV file named \"sales.csv\" for countries within the Australia and Oceania region. The program should calculate the maximum, minimum, and average profit for each country in this region and create a bar graph displaying the total profit for each country. This visualization aims to provide insights into the financial performance of countries in the Australia and Oceania region, helping your global retail company make informed decisions."
      ],
      "metadata": {
        "id": "u-SczfmD8z4W"
      }
    },
    {
      "cell_type": "markdown",
      "source": [
        "##1.Problem Statement\n",
        "We need to calculate the maximum,minimum,and average profit for each counrty in the given region and create a bar graph displaying the total profit for each country. The region of interest is Australia and Oceania. We are provided with sales data in a form of a csv.file."
      ],
      "metadata": {
        "id": "9v6Xq-F46fIL"
      }
    },
    {
      "cell_type": "markdown",
      "source": [
        "##Input\n",
        "Sales data in a CSV file named\"sales.csv\"which contains information about sales and profits in different countries"
      ],
      "metadata": {
        "id": "sO4e0f2_7LDB"
      }
    },
    {
      "cell_type": "markdown",
      "source": [
        "##Output\n",
        "the maximum,minimum,and average profit for each country in the given region and a bar graph displaying the total profit for each country"
      ],
      "metadata": {
        "id": "WEW7UIbd7gqy"
      }
    },
    {
      "cell_type": "markdown",
      "source": [
        "##3.Working the problem by hand\n"
      ],
      "metadata": {
        "id": "E0aApxPC7u5t"
      }
    },
    {
      "cell_type": "code",
      "source": [
        "import pandas as pd\n",
        "\n",
        "df = pd.read_csv('sales.csv')\n",
        "\n",
        "print(df.head())"
      ],
      "metadata": {
        "colab": {
          "base_uri": "https://localhost:8080/"
        },
        "id": "LlsEO2wN71kb",
        "outputId": "1aa6fc6a-5a4f-48df-9ddb-b80d492c15d6"
      },
      "execution_count": 3,
      "outputs": [
        {
          "output_type": "stream",
          "name": "stdout",
          "text": [
            "                              Region                Country        Item Type  \\\n",
            "0              Australia and Oceania                 Tuvalu        Baby Food   \n",
            "1  Central America and the Caribbean                Grenada           Cereal   \n",
            "2                             Europe                 Russia  Office Supplies   \n",
            "3                 Sub-Saharan Africa  Sao Tome and Principe           Fruits   \n",
            "4                 Sub-Saharan Africa                 Rwanda  Office Supplies   \n",
            "\n",
            "  Sales Channel Order Priority Order Date   Order ID  Ship Date  Units Sold  \\\n",
            "0       Offline              H  5/28/2010  669165933  6/27/2010        9925   \n",
            "1        Online              C  8/22/2012  963881480  9/15/2012        2804   \n",
            "2       Offline              L   5/2/2014  341417157   5/8/2014        1779   \n",
            "3        Online              C  6/20/2014  514321792   7/5/2014        8102   \n",
            "4       Offline              L   2/1/2013  115456712   2/6/2013        5062   \n",
            "\n",
            "   Unit Price  Unit Cost  Total Revenue  Total Cost  Total Profit  \n",
            "0      255.28     159.42     2533654.00  1582243.50     951410.50  \n",
            "1      205.70     117.11      576782.80   328376.44     248406.36  \n",
            "2      651.21     524.96     1158502.59   933903.84     224598.75  \n",
            "3        9.33       6.92       75591.66    56065.84      19525.82  \n",
            "4      651.21     524.96     3296425.02  2657347.52     639077.50  \n"
          ]
        }
      ]
    },
    {
      "cell_type": "code",
      "source": [
        "#Filtering the Data  ##teaching\n",
        "\n",
        "filtered_df = df[da['Region']==]"
      ],
      "metadata": {
        "id": "9p-8VvNW_05S"
      },
      "execution_count": null,
      "outputs": []
    },
    {
      "cell_type": "code",
      "source": [
        "filtered_df = df[da['Region'].str.contains('Australia and Oceania')=='Australia']"
      ],
      "metadata": {
        "id": "_aDq48i9ANSK"
      },
      "execution_count": null,
      "outputs": []
    },
    {
      "cell_type": "code",
      "source": [
        "filtered_df = df[df['Region'].str.contains('Australia and Oceania',case = False)"
      ],
      "metadata": {
        "colab": {
          "base_uri": "https://localhost:8080/",
          "height": 106
        },
        "id": "huj3uP7VAnQQ",
        "outputId": "c458ba09-deeb-4c81-f9cd-fc0e87605846"
      },
      "execution_count": 6,
      "outputs": [
        {
          "output_type": "error",
          "ename": "SyntaxError",
          "evalue": "incomplete input (<ipython-input-6-33d5f74d5168>, line 1)",
          "traceback": [
            "\u001b[0;36m  File \u001b[0;32m\"<ipython-input-6-33d5f74d5168>\"\u001b[0;36m, line \u001b[0;32m1\u001b[0m\n\u001b[0;31m    filtered_df = df[df['Region'].str.contains('Australia and Oceania',case = False)\u001b[0m\n\u001b[0m                                                                                    ^\u001b[0m\n\u001b[0;31mSyntaxError\u001b[0m\u001b[0;31m:\u001b[0m incomplete input\n"
          ]
        }
      ]
    },
    {
      "cell_type": "code",
      "source": [
        "#Filtering the Data  ##pratice\n",
        "\n",
        "import pandas as pd\n",
        "\n",
        "# Read the CSV file into a DataFrame\n",
        "df = pd.read_csv('sales.csv')\n",
        "\n",
        "# List of countries in the Australia and Oceania region\n",
        "australia_oceania_countries = [\"Australia\", \"Fiji\", \"Kiribati\", \"Marshall Islands\", \"Micronesia\",\n",
        "                               \"Nauru\", \"New Zealand\", \"Palau\", \"Papua New Guinea\", \"Samoa\",\n",
        "                               \"Solomon Islands\", \"Tonga\", \"Tuvalu\", \"Vanuatu\"]\n",
        "\n",
        "# Filter DataFrame for countries in the Australia and Oceania region\n",
        "australia_oceania_data = df[df['Country'].isin(australia_oceania_countries)]\n",
        "\n",
        "# Display the filtered DataFrame\n",
        "print(australia_oceania_data.head())"
      ],
      "metadata": {
        "colab": {
          "base_uri": "https://localhost:8080/"
        },
        "id": "PNiLdcBW-RC6",
        "outputId": "e966996a-2584-47ac-c2e6-398e5aecf737"
      },
      "execution_count": 4,
      "outputs": [
        {
          "output_type": "stream",
          "name": "stdout",
          "text": [
            "                   Region          Country        Item Type Sales Channel  \\\n",
            "0   Australia and Oceania           Tuvalu        Baby Food       Offline   \n",
            "5   Australia and Oceania  Solomon Islands        Baby Food        Online   \n",
            "23  Australia and Oceania      New Zealand           Fruits        Online   \n",
            "26  Australia and Oceania         Kiribati           Fruits        Online   \n",
            "32  Australia and Oceania        Australia  Office Supplies        Online   \n",
            "\n",
            "   Order Priority  Order Date   Order ID   Ship Date  Units Sold  Unit Price  \\\n",
            "0               H   5/28/2010  669165933   6/27/2010        9925      255.28   \n",
            "5               C    2/4/2015  547995746   2/21/2015        2974      255.28   \n",
            "23              H    9/8/2014  142278373   10/4/2014        2187        9.33   \n",
            "26              M  10/13/2014  347140347  11/10/2014        5398        9.33   \n",
            "32              C  10/27/2015  158535134  11/25/2015        2924      651.21   \n",
            "\n",
            "    Unit Cost  Total Revenue  Total Cost  Total Profit  \n",
            "0      159.42     2533654.00  1582243.50     951410.50  \n",
            "5      159.42      759202.72   474115.08     285087.64  \n",
            "23       6.92       20404.71    15134.04       5270.67  \n",
            "26       6.92       50363.34    37354.16      13009.18  \n",
            "32     524.96     1904138.04  1534983.04     369155.00  \n"
          ]
        }
      ]
    }
  ]
}